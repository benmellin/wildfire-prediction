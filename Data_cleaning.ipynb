{
  "nbformat": 4,
  "nbformat_minor": 0,
  "metadata": {
    "colab": {
      "provenance": [],
      "authorship_tag": "ABX9TyOJ4WzjyION25sStg66Bbj4",
      "include_colab_link": true
    },
    "kernelspec": {
      "name": "python3",
      "display_name": "Python 3"
    },
    "language_info": {
      "name": "python"
    }
  },
  "cells": [
    {
      "cell_type": "markdown",
      "metadata": {
        "id": "view-in-github",
        "colab_type": "text"
      },
      "source": [
        "<a href=\"https://colab.research.google.com/github/benmellin/wildfire-prediction/blob/main/Data_cleaning.ipynb\" target=\"_parent\"><img src=\"https://colab.research.google.com/assets/colab-badge.svg\" alt=\"Open In Colab\"/></a>"
      ]
    },
    {
      "cell_type": "markdown",
      "source": [
        "### In this notebook, I clean records of wildfire data to be used as positive instances in machine learning."
      ],
      "metadata": {
        "id": "epoZ0W0Vct37"
      }
    },
    {
      "cell_type": "code",
      "execution_count": null,
      "metadata": {
        "colab": {
          "base_uri": "https://localhost:8080/"
        },
        "id": "nk2AvNP2yigr",
        "outputId": "edb825bf-10f3-42bf-c96e-6e2cc7110048"
      },
      "outputs": [
        {
          "output_type": "stream",
          "name": "stdout",
          "text": [
            "Mounted at /content/drive\n"
          ]
        }
      ],
      "source": [
        "# mount drive\n",
        "from google.colab import drive\n",
        "drive.mount('/content/drive')"
      ]
    },
    {
      "cell_type": "code",
      "source": [
        "import pandas as pd\n",
        "import matplotlib.pyplot as plt"
      ],
      "metadata": {
        "id": "B-4X8vnlysBS"
      },
      "execution_count": null,
      "outputs": []
    },
    {
      "cell_type": "code",
      "source": [
        "fire_df = pd.read_csv(\"/content/drive/MyDrive/ALDA Project/National_USFS_Fire_Occurrence_Point_(Feature_Layer).csv\")"
      ],
      "metadata": {
        "colab": {
          "base_uri": "https://localhost:8080/"
        },
        "id": "Dl5axdIkyv2I",
        "outputId": "14c5903e-db65-44e3-bc65-03e619bd850f"
      },
      "execution_count": null,
      "outputs": [
        {
          "output_type": "stream",
          "name": "stderr",
          "text": [
            "<ipython-input-54-75ad8c56483b>:1: DtypeWarning: Columns (5,11,12,13,18,19) have mixed types. Specify dtype option on import or set low_memory=False.\n",
            "  fire_df = pd.read_csv(\"/content/drive/MyDrive/ALDA Project/National_USFS_Fire_Occurrence_Point_(Feature_Layer).csv\")\n"
          ]
        }
      ]
    },
    {
      "cell_type": "markdown",
      "source": [
        "## Checking out the DF\n",
        "- Used [this website](https://catalog.data.gov/dataset/national-usfs-fire-occurrence-point-feature-layer-d3233) to source data for fire ignitions\n",
        "- Comes from the US Forest Service"
      ],
      "metadata": {
        "id": "OBZCfvIyzBTK"
      }
    },
    {
      "cell_type": "code",
      "source": [
        "print(fire_df.shape)\n",
        "print(fire_df.head())\n",
        "print(fire_df.columns)"
      ],
      "metadata": {
        "colab": {
          "base_uri": "https://localhost:8080/"
        },
        "id": "irxfjldKy42R",
        "outputId": "ced8d5be-9496-4c16-bbac-fdbdf4668ac4"
      },
      "execution_count": null,
      "outputs": [
        {
          "output_type": "stream",
          "name": "stdout",
          "text": [
            "(582291, 35)\n",
            "            X          Y   OBJECTID                                GLOBALID  \\\n",
            "0 -106.406890  36.288324  313655329  {02E94D62-D284-4760-819B-5DA7939C6A93}   \n",
            "1 -107.243590  36.974714  313655330  {B180F8C6-F6DA-4F55-A2E3-F62E711C0633}   \n",
            "2 -107.286090  36.586384  313655331  {BCD2E22D-471F-4A30-B2FF-9E33B68D59C6}   \n",
            "3 -106.444690  36.543884  313655332  {68DB867D-BA27-4584-B5A8-8BBE7A46273B}   \n",
            "4 -106.059347  36.281551  313655333  {B9AC5BE5-2198-4322-9D24-C6F3BFD4F790}   \n",
            "\n",
            "  FIREOCCURID       CN                 REVDATE        FIRENAME COMPLEXNAME  \\\n",
            "0         NaN  1526571  2015/02/01 00:00:00+00   Blackies Mesa         NaN   \n",
            "1         NaN  1523706  2015/02/01 00:00:00+00          3 Tree         NaN   \n",
            "2         NaN  1525092  2015/02/01 00:00:00+00        Headache         NaN   \n",
            "3         NaN  1526607  2015/02/01 00:00:00+00  Rito Del Medio         NaN   \n",
            "4         NaN  1525366  2015/02/01 00:00:00+00        La Cueva         NaN   \n",
            "\n",
            "   FIREYEAR  ...   LATDD83   LONGDD83 FIRETYPECATEGORY POINTTYPE PERIMEXISTS  \\\n",
            "0    2014.0  ...  36.28832 -106.40689               WF                     N   \n",
            "1    2014.0  ...  36.97471 -107.24359               WF                     N   \n",
            "2    2014.0  ...  36.58638 -107.28609               WF                     N   \n",
            "3    2014.0  ...  36.54388 -106.44469               WF                     N   \n",
            "4    2014.0  ...  36.28155 -106.05935               WF                     N   \n",
            "\n",
            "  FIRERPTQC  DBSOURCEID            DBSOURCEDATE ACCURACY SHAPE  \n",
            "0                   302  2025/02/24 04:00:54+00      NaN   NaN  \n",
            "1                   302  2025/02/24 04:00:58+00      NaN   NaN  \n",
            "2                   302  2025/02/24 04:00:58+00      NaN   NaN  \n",
            "3                   302  2025/02/24 04:00:58+00      NaN   NaN  \n",
            "4                   302  2025/02/24 04:00:58+00      NaN   NaN  \n",
            "\n",
            "[5 rows x 35 columns]\n",
            "Index(['X', 'Y', 'OBJECTID', 'GLOBALID', 'FIREOCCURID', 'CN', 'REVDATE',\n",
            "       'FIRENAME', 'COMPLEXNAME', 'FIREYEAR', 'UNIQFIREID', 'SOFIRENUM',\n",
            "       'LOCALFIRENUM', 'SECURITYID', 'DISCOVERYDATETIME', 'SIZECLASS',\n",
            "       'TOTALACRES', 'STATCAUSE', 'COMMENTS', 'DATASOURCE', 'FIREOUTDATETIME',\n",
            "       'OWNERAGENCY', 'UNITIDOWNER', 'PROTECTIONAGENCY', 'UNITIDPROTECT',\n",
            "       'LATDD83', 'LONGDD83', 'FIRETYPECATEGORY', 'POINTTYPE', 'PERIMEXISTS',\n",
            "       'FIRERPTQC', 'DBSOURCEID', 'DBSOURCEDATE', 'ACCURACY', 'SHAPE'],\n",
            "      dtype='object')\n"
          ]
        }
      ]
    },
    {
      "cell_type": "code",
      "source": [
        "print(fire_df['DISCOVERYDATETIME'])"
      ],
      "metadata": {
        "colab": {
          "base_uri": "https://localhost:8080/"
        },
        "id": "xYPZlTywzhZm",
        "outputId": "fbb407b6-a0c0-49a0-effc-1b59dbe6004b"
      },
      "execution_count": null,
      "outputs": [
        {
          "output_type": "stream",
          "name": "stdout",
          "text": [
            "0         2014/07/03 00:00:00+00\n",
            "1         2014/06/06 00:00:00+00\n",
            "2         2014/07/28 00:00:00+00\n",
            "3         2014/08/19 00:00:00+00\n",
            "4         2014/08/26 00:00:00+00\n",
            "                   ...          \n",
            "582286    2005/09/11 00:00:00+00\n",
            "582287    2010/04/08 00:00:00+00\n",
            "582288    2009/09/29 00:00:00+00\n",
            "582289    1996/07/06 00:00:00+00\n",
            "582290    2021/07/14 00:15:02+00\n",
            "Name: DISCOVERYDATETIME, Length: 582291, dtype: object\n"
          ]
        }
      ]
    },
    {
      "cell_type": "code",
      "source": [
        "print(fire_df[\"TOTALACRES\"])"
      ],
      "metadata": {
        "colab": {
          "base_uri": "https://localhost:8080/"
        },
        "id": "hR2wBbjuzwEs",
        "outputId": "ea7a4048-9707-4ec8-d490-9d4f73e83aa0"
      },
      "execution_count": null,
      "outputs": [
        {
          "output_type": "stream",
          "name": "stdout",
          "text": [
            "0              0.10\n",
            "1              0.50\n",
            "2              0.10\n",
            "3              0.25\n",
            "4              0.10\n",
            "            ...    \n",
            "582286         0.50\n",
            "582287         0.10\n",
            "582288         0.10\n",
            "582289        10.00\n",
            "582290    963309.00\n",
            "Name: TOTALACRES, Length: 582291, dtype: float64\n"
          ]
        }
      ]
    },
    {
      "cell_type": "code",
      "source": [
        "print(fire_df[\"LATDD83\"].min())\n",
        "print(fire_df[\"LATDD83\"].max())\n",
        "print(fire_df[\"LONGDD83\"].min())\n",
        "print(fire_df[\"LONGDD83\"].max())"
      ],
      "metadata": {
        "colab": {
          "base_uri": "https://localhost:8080/"
        },
        "id": "yQsVBQyOz9uA",
        "outputId": "e66df731-ff83-4e5f-d6d0-677559a5ab85"
      },
      "execution_count": null,
      "outputs": [
        {
          "output_type": "stream",
          "name": "stdout",
          "text": [
            "-117.23305\n",
            "438897.0\n",
            "-1038467.0\n",
            "1011212.77\n"
          ]
        }
      ]
    },
    {
      "cell_type": "markdown",
      "source": [
        "- So the values for lattitude and longitude don't look great. Seems like there are probably some typos/misplaced decimals in this dataset.\n",
        "- Longitude ranges from -180 to 180, lattitude ranges from -90 to 90.\n",
        "- How many instances are there where the latitude or longitude is outside of the acceptable range for latitude?"
      ],
      "metadata": {
        "id": "buYAM_uI2a1c"
      }
    },
    {
      "cell_type": "code",
      "source": [
        "##Longitude\n",
        "\n",
        "# Specify the range\n",
        "lower_limit = -180\n",
        "upper_limit = 180\n",
        "\n",
        "# Count values outside the specified range\n",
        "count_outside_range = ((fire_df['LONGDD83'] < lower_limit) | (fire_df['LONGDD83'] > upper_limit)).sum()\n",
        "print(count_outside_range)\n"
      ],
      "metadata": {
        "colab": {
          "base_uri": "https://localhost:8080/"
        },
        "id": "uHx2gFlQ4Ffu",
        "outputId": "f624a5f4-5747-420c-9263-4dc4b1d9d1f4"
      },
      "execution_count": null,
      "outputs": [
        {
          "output_type": "stream",
          "name": "stdout",
          "text": [
            "8\n"
          ]
        }
      ]
    },
    {
      "cell_type": "code",
      "source": [
        "##latitude\n",
        "\n",
        "# Specify the range\n",
        "lower_limit = -90\n",
        "upper_limit = 90\n",
        "\n",
        "# Count values outside the specified range\n",
        "count_outside_range = ((fire_df[\"LATDD83\"] < lower_limit) | (fire_df[\"LATDD83\"] > upper_limit)).sum()\n",
        "print(count_outside_range)\n"
      ],
      "metadata": {
        "colab": {
          "base_uri": "https://localhost:8080/"
        },
        "id": "BnCjyYZs4i03",
        "outputId": "6b567eb9-62da-4b1e-e4d9-97d3aa57256b"
      },
      "execution_count": null,
      "outputs": [
        {
          "output_type": "stream",
          "name": "stdout",
          "text": [
            "210\n"
          ]
        }
      ]
    },
    {
      "cell_type": "markdown",
      "source": [
        "- Going to narrow the scope a bit. How many of these values are outside the range of the United States?\n",
        "- Source of extreme points of US from here: http://www.cohp.org/extremes/extreme_points.html"
      ],
      "metadata": {
        "id": "-m0SeHg54sgr"
      }
    },
    {
      "cell_type": "markdown",
      "source": [
        "### Checking to see how many points have lattitude and longitude that either doesn't exist or is outside of the United States\n",
        "- I'd like to use Geopy's API or Google clouds API to return the country for every lattitude and longitude, but I would exceed the rate limits quickly for both.\n",
        "- I think I would have to pay for both of these thigns\n",
        "- Rather, I will just check and see if the latitude and longitude exist outside of the max and min of the united states. It is not perfect but it should help get rid of typos and stuff.\n",
        "- Extreme points from here: https://en.wikipedia.org/wiki/List_of_extreme_points_of_the_United_States\n",
        "- Also going to keep this to the contiguous United States here. Sorry Alaska and Hawaii!"
      ],
      "metadata": {
        "id": "PMBab5iC6qdd"
      }
    },
    {
      "cell_type": "code",
      "source": [
        "##Longitude\n",
        "\n",
        "# Specify the range\n",
        "lower_limit = -124.73004\n",
        "upper_limit = -66.94975\n",
        "\n",
        "# Count values outside the specified range\n",
        "count_outside_range = ((fire_df['LONGDD83'] < lower_limit) | (fire_df['LONGDD83'] > upper_limit)).sum()\n",
        "print(count_outside_range)\n"
      ],
      "metadata": {
        "colab": {
          "base_uri": "https://localhost:8080/"
        },
        "id": "Aj9OVhzl8fGa",
        "outputId": "fb1e6420-b4cb-40ac-bcc4-7a7491eae249"
      },
      "execution_count": null,
      "outputs": [
        {
          "output_type": "stream",
          "name": "stdout",
          "text": [
            "8512\n"
          ]
        }
      ]
    },
    {
      "cell_type": "code",
      "source": [
        "\n",
        "# Specify the range\n",
        "lower_limit = 24.52\n",
        "upper_limit = 49.38407\n",
        "\n",
        "# Count values outside the specified range\n",
        "count_outside_range = ((fire_df[\"LATDD83\"] < lower_limit) | (fire_df[\"LATDD83\"] > upper_limit)).sum()\n",
        "print(count_outside_range)"
      ],
      "metadata": {
        "colab": {
          "base_uri": "https://localhost:8080/"
        },
        "id": "peFrM2J699O5",
        "outputId": "1c0c7096-5753-487d-9a8d-baffd20ba596"
      },
      "execution_count": null,
      "outputs": [
        {
          "output_type": "stream",
          "name": "stdout",
          "text": [
            "4849\n"
          ]
        }
      ]
    },
    {
      "cell_type": "markdown",
      "source": [
        "I will plan to drop these values during data cleaning"
      ],
      "metadata": {
        "id": "smSkiSlh-WFo"
      }
    },
    {
      "cell_type": "markdown",
      "source": [
        "### Exploring the dates in the dataframe, making sure they are ok"
      ],
      "metadata": {
        "id": "zja9r05U-drr"
      }
    },
    {
      "cell_type": "code",
      "source": [
        "print(fire_df[\"DISCOVERYDATETIME\"].str[:4])\n",
        "years = fire_df[\"DISCOVERYDATETIME\"].str[:4].astype(float)\n",
        "print(min(years))\n"
      ],
      "metadata": {
        "colab": {
          "base_uri": "https://localhost:8080/"
        },
        "id": "amAn8Urh-bHG",
        "outputId": "7a7f852c-517a-4e15-aa72-5b1dd397797e"
      },
      "execution_count": null,
      "outputs": [
        {
          "output_type": "stream",
          "name": "stdout",
          "text": [
            "0         2014\n",
            "1         2014\n",
            "2         2014\n",
            "3         2014\n",
            "4         2014\n",
            "          ... \n",
            "582286    2005\n",
            "582287    2010\n",
            "582288    2009\n",
            "582289    1996\n",
            "582290    2021\n",
            "Name: DISCOVERYDATETIME, Length: 582291, dtype: object\n",
            "1001.0\n"
          ]
        }
      ]
    },
    {
      "cell_type": "code",
      "source": [
        "print(fire_df[\"DISCOVERYDATETIME\"])"
      ],
      "metadata": {
        "colab": {
          "base_uri": "https://localhost:8080/"
        },
        "id": "rXMpV50MJNoD",
        "outputId": "ae2b08b8-247b-4f11-837a-5c77aa338c70"
      },
      "execution_count": null,
      "outputs": [
        {
          "output_type": "stream",
          "name": "stdout",
          "text": [
            "0         2014/07/03 00:00:00+00\n",
            "1         2014/06/06 00:00:00+00\n",
            "2         2014/07/28 00:00:00+00\n",
            "3         2014/08/19 00:00:00+00\n",
            "4         2014/08/26 00:00:00+00\n",
            "                   ...          \n",
            "582286    2005/09/11 00:00:00+00\n",
            "582287    2010/04/08 00:00:00+00\n",
            "582288    2009/09/29 00:00:00+00\n",
            "582289    1996/07/06 00:00:00+00\n",
            "582290    2021/07/14 00:15:02+00\n",
            "Name: DISCOVERYDATETIME, Length: 582291, dtype: object\n"
          ]
        }
      ]
    },
    {
      "cell_type": "code",
      "source": [
        "\n",
        "\n",
        "# Convert the 'DISCOVERYDATETIME' to datetime and remove time portion\n",
        "fire_df[\"DISCOVERYDATE\"] = pd.to_datetime(fire_df[\"DISCOVERYDATETIME\"], errors='coerce').dt.date\n",
        "\n",
        "# Drop rows with invalid dates (NaT or incorrect format)\n",
        "cleaned_fire_df = fire_df.dropna(subset=[\"DISCOVERYDATE\"])\n",
        "\n",
        "#  Filter dates between 1950 and 2024\n",
        "cleaned_fire_df = cleaned_fire_df[(cleaned_fire_df[\"DISCOVERYDATE\"] >= pd.to_datetime(\"1950-01-01\").date()) &\n",
        "                  (cleaned_fire_df[\"DISCOVERYDATE\"] <= pd.to_datetime(\"2024-12-31\").date())]\n",
        "\n",
        "# Display the cleaned DataFrame\n",
        "print(cleaned_fire_df[[\"DISCOVERYDATE\"]].head())\n",
        "print(cleaned_fire_df.shape)\n"
      ],
      "metadata": {
        "colab": {
          "base_uri": "https://localhost:8080/"
        },
        "id": "JjSBb1VUKA8i",
        "outputId": "13c9a074-b942-460f-9717-3e49cb4ad498"
      },
      "execution_count": null,
      "outputs": [
        {
          "output_type": "stream",
          "name": "stdout",
          "text": [
            "  DISCOVERYDATE\n",
            "0    2014-07-03\n",
            "1    2014-06-06\n",
            "2    2014-07-28\n",
            "3    2014-08-19\n",
            "4    2014-08-26\n",
            "(528892, 36)\n"
          ]
        }
      ]
    },
    {
      "cell_type": "code",
      "source": [
        "print(cleaned_fire_df.shape)"
      ],
      "metadata": {
        "colab": {
          "base_uri": "https://localhost:8080/"
        },
        "id": "oKSPa8O1K040",
        "outputId": "7a54231f-8412-42bf-9ccd-dee40d033bde"
      },
      "execution_count": null,
      "outputs": [
        {
          "output_type": "stream",
          "name": "stdout",
          "text": [
            "(528892, 36)\n"
          ]
        }
      ]
    },
    {
      "cell_type": "markdown",
      "source": [
        "## clean the latitude and longitude column"
      ],
      "metadata": {
        "id": "WGMwXxOPLEmH"
      }
    },
    {
      "cell_type": "code",
      "source": [
        "# Define latitude limits\n",
        "lower_limit = 24.52\n",
        "upper_limit = 49.38407\n",
        "\n",
        "# Filter the dataframe to keep only rows within the valid latitude range\n",
        "lat_clean_fire_df = cleaned_fire_df[(cleaned_fire_df[\"LATDD83\"] >= lower_limit) & (cleaned_fire_df[\"LATDD83\"] <= upper_limit)]\n",
        "\n",
        "# Display the first few rows of the cleaned dataframe\n",
        "print(lat_clean_fire_df[[\"LATDD83\"]].head())\n"
      ],
      "metadata": {
        "colab": {
          "base_uri": "https://localhost:8080/"
        },
        "id": "uZ93ylIvLZdV",
        "outputId": "7e0e91f8-e923-4ce9-d832-0915b6554223"
      },
      "execution_count": null,
      "outputs": [
        {
          "output_type": "stream",
          "name": "stdout",
          "text": [
            "    LATDD83\n",
            "0  36.28832\n",
            "1  36.97471\n",
            "2  36.58638\n",
            "3  36.54388\n",
            "4  36.28155\n"
          ]
        }
      ]
    },
    {
      "cell_type": "code",
      "source": [
        "# Define long limits\n",
        "lower_limit = -124.73004\n",
        "upper_limit = -66.94975\n",
        "\n",
        "# Filter the dataframe to keep only rows within the valid latitude range\n",
        "latlong_clean_fire_df = lat_clean_fire_df[(lat_clean_fire_df['LONGDD83'] >= lower_limit) & (lat_clean_fire_df['LONGDD83'] <= upper_limit)]\n",
        "\n",
        "# Display the first few rows of the cleaned dataframe\n",
        "print(latlong_clean_fire_df[['LONGDD83']].head())\n"
      ],
      "metadata": {
        "colab": {
          "base_uri": "https://localhost:8080/"
        },
        "id": "6bbjdTzdMKdX",
        "outputId": "19fe4f1a-70be-4526-ac29-34d156a86865"
      },
      "execution_count": null,
      "outputs": [
        {
          "output_type": "stream",
          "name": "stdout",
          "text": [
            "    LONGDD83\n",
            "0 -106.40689\n",
            "1 -107.24359\n",
            "2 -107.28609\n",
            "3 -106.44469\n",
            "4 -106.05935\n"
          ]
        }
      ]
    },
    {
      "cell_type": "markdown",
      "source": [
        "### Test to make sure it worked"
      ],
      "metadata": {
        "id": "DDUkrxR5Mloe"
      }
    },
    {
      "cell_type": "code",
      "source": [
        "##Longitude\n",
        "\n",
        "# Specify the range\n",
        "lower_limit = -124.73004\n",
        "upper_limit = -66.94975\n",
        "\n",
        "# Count values outside the specified range\n",
        "count_outside_range = ((latlong_clean_fire_df['LONGDD83'] < lower_limit) | (latlong_clean_fire_df['LONGDD83'] > upper_limit)).sum()\n",
        "print(count_outside_range)\n"
      ],
      "metadata": {
        "colab": {
          "base_uri": "https://localhost:8080/"
        },
        "id": "k770JWhqMlUc",
        "outputId": "89d07436-92d0-4783-c2bc-addcbba94bda"
      },
      "execution_count": null,
      "outputs": [
        {
          "output_type": "stream",
          "name": "stdout",
          "text": [
            "0\n"
          ]
        }
      ]
    },
    {
      "cell_type": "code",
      "source": [
        "# latitude\n",
        "# Specify the range\n",
        "lower_limit = 24.52\n",
        "upper_limit = 49.38407\n",
        "\n",
        "# Count values outside the specified range\n",
        "count_outside_range = ((latlong_clean_fire_df[\"LATDD83\"] < lower_limit) | (latlong_clean_fire_df[\"LATDD83\"] > upper_limit)).sum()\n",
        "print(count_outside_range)"
      ],
      "metadata": {
        "colab": {
          "base_uri": "https://localhost:8080/"
        },
        "id": "dWpJtsD3M4M3",
        "outputId": "0a784c5c-6272-4a5a-a0a1-528aa0345dc4"
      },
      "execution_count": null,
      "outputs": [
        {
          "output_type": "stream",
          "name": "stdout",
          "text": [
            "0\n"
          ]
        }
      ]
    },
    {
      "cell_type": "code",
      "source": [
        "print(latlong_clean_fire_df.shape)"
      ],
      "metadata": {
        "colab": {
          "base_uri": "https://localhost:8080/"
        },
        "id": "Zko5YkDVNEbi",
        "outputId": "382191a7-353d-4e37-a3a9-23ad8ad8e6ab"
      },
      "execution_count": null,
      "outputs": [
        {
          "output_type": "stream",
          "name": "stdout",
          "text": [
            "(519891, 36)\n"
          ]
        }
      ]
    },
    {
      "cell_type": "markdown",
      "source": [
        "## Cleaning acres column"
      ],
      "metadata": {
        "id": "lJuedMTtNKiG"
      }
    },
    {
      "cell_type": "code",
      "source": [
        "# Convert to numeric (in case there are non-numeric values)\n",
        "acres_clean_df = latlong_clean_fire_df.copy()\n",
        "acres_clean_df[\"TOTALACRES\"] = pd.to_numeric(acres_clean_df[\"TOTALACRES\"], errors=\"coerce\")\n",
        "\n",
        "# Drop rows where ACRES is NaN\n",
        "acres_clean_df = acres_clean_df.dropna(subset=[\"TOTALACRES\"])\n",
        "\n",
        "# Remove non-positive values (acres should be > 0)\n",
        "acres_clean_df = acres_clean_df[acres_clean_df[\"TOTALACRES\"] > 0]\n",
        "\n",
        "# upper_threshold = 1_000_000\n",
        "# fire_df = fire_df[fire_df[\"TOTALACRES\"] <= upper_threshold]\n",
        "\n",
        "# Display the first few rows\n",
        "print(acres_clean_df.shape)\n"
      ],
      "metadata": {
        "colab": {
          "base_uri": "https://localhost:8080/"
        },
        "id": "KLLOZSo8Qwnw",
        "outputId": "711f107b-81f2-41ba-e376-3dc017e2b89b"
      },
      "execution_count": null,
      "outputs": [
        {
          "output_type": "stream",
          "name": "stdout",
          "text": [
            "(516892, 36)\n"
          ]
        }
      ]
    },
    {
      "cell_type": "code",
      "source": [
        "# View histogram of acreage\n",
        "\n",
        "plt.hist(acres_clean_df[\"TOTALACRES\"], bins=50, edgecolor=\"black\")\n",
        "\n",
        "# Labels and title\n",
        "plt.xlabel(\"Acres Burned\")\n",
        "plt.ylabel(\"Frequency\")\n",
        "plt.title(\"Distribution of Wildfire Acres\")\n",
        "\n",
        "# Show plot\n",
        "plt.show()"
      ],
      "metadata": {
        "colab": {
          "base_uri": "https://localhost:8080/",
          "height": 471
        },
        "id": "PgnH2vX-R_YG",
        "outputId": "217706af-3849-40d7-c93f-e181ea933821"
      },
      "execution_count": null,
      "outputs": [
        {
          "output_type": "display_data",
          "data": {
            "text/plain": [
              "<Figure size 640x480 with 1 Axes>"
            ],
            "image/png": "[encoded data removed]"
          },
          "metadata": {}
        }
      ]
    },
    {
      "cell_type": "code",
      "source": [
        "print(acres_clean_df[\"TOTALACRES\"].max())"
      ],
      "metadata": {
        "colab": {
          "base_uri": "https://localhost:8080/"
        },
        "id": "KHbnNyyPSb1w",
        "outputId": "2a78d049-1055-446b-f358-29b00d9444b5"
      },
      "execution_count": null,
      "outputs": [
        {
          "output_type": "stream",
          "name": "stdout",
          "text": [
            "963309.0\n"
          ]
        }
      ]
    },
    {
      "cell_type": "code",
      "source": [
        "max_acres = acres_clean_df[\"TOTALACRES\"].idxmax()\n",
        "print(acres_clean_df.loc[max_acres])"
      ],
      "metadata": {
        "colab": {
          "base_uri": "https://localhost:8080/"
        },
        "id": "ZhD0jmvxSo0I",
        "outputId": "21e760da-a76b-4de3-bca6-86ecb4aba19c"
      },
      "execution_count": null,
      "outputs": [
        {
          "output_type": "stream",
          "name": "stdout",
          "text": [
            "X                                                          -121.378833\n",
            "Y                                                               39.876\n",
            "OBJECTID                                                     314239365\n",
            "GLOBALID                        {4BCBFB26-835E-4620-A4B4-0182BB41C5A3}\n",
            "FIREOCCURID                       E9DB628D-DFB7-4C85-BCD6-1254574D946B\n",
            "CN                                                                 NaN\n",
            "REVDATE                                         2021/12/20 09:22:24+00\n",
            "FIRENAME                                                         DIXIE\n",
            "COMPLEXNAME                                                        NaN\n",
            "FIREYEAR                                                        2021.0\n",
            "UNIQFIREID                                           2021-CABTU-009205\n",
            "SOFIRENUM                                                          NaN\n",
            "LOCALFIRENUM                                                       NaN\n",
            "SECURITYID                                                         5.0\n",
            "DISCOVERYDATETIME                               2021/07/14 00:15:02+00\n",
            "SIZECLASS                                                            K\n",
            "TOTALACRES                                                    963309.0\n",
            "STATCAUSE                                                 Undetermined\n",
            "COMMENTS             Feather River Canyon near Cresta Powerhouse an...\n",
            "DATASOURCE                                                         NaN\n",
            "FIREOUTDATETIME                                                    NaN\n",
            "OWNERAGENCY                                                       USFS\n",
            "UNITIDOWNER                                                      CAPNF\n",
            "PROTECTIONAGENCY                                                 State\n",
            "UNITIDPROTECT                                                    CABTU\n",
            "LATDD83                                                         39.876\n",
            "LONGDD83                                                    -121.37883\n",
            "FIRETYPECATEGORY                                                    WF\n",
            "POINTTYPE                                                     Ignition\n",
            "PERIMEXISTS                                                          Y\n",
            "FIRERPTQC                                                          Yes\n",
            "DBSOURCEID                                                           5\n",
            "DBSOURCEDATE                                    2025/02/24 04:10:03+00\n",
            "ACCURACY                                                           NaN\n",
            "SHAPE                                                              NaN\n",
            "DISCOVERYDATE                                               2021-07-14\n",
            "Name: 582290, dtype: object\n"
          ]
        }
      ]
    },
    {
      "cell_type": "markdown",
      "source": [
        "This wasn't a typo--the dixie fire actually existed and was massive."
      ],
      "metadata": {
        "id": "jc2jZdSxTKiI"
      }
    },
    {
      "cell_type": "code",
      "source": [
        "## Save dataframe\n",
        "final_clean_df= acres_clean_df[[\"TOTALACRES\",'LONGDD83',\"LATDD83\",'DISCOVERYDATETIME']]\n",
        "print(final_clean_df.shape)\n",
        "final_clean_df.to_csv(\"/content/drive/MyDrive/ALDA Project/clean_dates_and_locs.csv\", index=False)"
      ],
      "metadata": {
        "colab": {
          "base_uri": "https://localhost:8080/"
        },
        "id": "nkODFeRgTPZw",
        "outputId": "0734d2eb-4d16-4019-ee40-87e474ec4c84"
      },
      "execution_count": null,
      "outputs": [
        {
          "output_type": "stream",
          "name": "stdout",
          "text": [
            "(516892, 4)\n"
          ]
        }
      ]
    }
  ]
}